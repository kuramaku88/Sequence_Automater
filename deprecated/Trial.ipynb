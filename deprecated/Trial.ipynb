{
 "cells": [
  {
   "cell_type": "code",
   "execution_count": 23,
   "metadata": {},
   "outputs": [],
   "source": [
    "import pandas as pd\n",
    "import numpy as np\n",
    "import matplotlib.pyplot as plt\n",
    "\n",
    "from py_pulse import *\n",
    "from pulse_helper import *"
   ]
  },
  {
   "cell_type": "code",
   "execution_count": 26,
   "metadata": {},
   "outputs": [],
   "source": [
    "file_name = \"Pulse_Manager.xlsx\"\n",
    "sheet_1 = \"Pulse_Queue\"\n",
    "sheet_2 = \"Pulse_Definition\"\n",
    "\n",
    "# pulse_queue = pd.read_excel(file_name, sheet_name=sheet_1)\n",
    "pulse_definition = pd.read_excel(file_name, sheet_name=sheet_2)\n",
    "pulse_names = pulse_definition.columns[1:]\n",
    "pulse_list = []\n",
    "pulse_dic = {}\n",
    "pulse_queue = Pulse_Queue(pd.read_excel(file_name, sheet_name=sheet_1))\n",
    "\n",
    "for name in pulse_names:\n",
    "    pulse_list.append(Pulse(name, pulse_definition[name]))\n",
    "    pulse_dic.update({name: Pulse(name, pulse_definition[name])})\n",
    "\n",
    "channels = load_channels(pulse_queue, pulse_dic, 28)"
   ]
  },
  {
   "cell_type": "code",
   "execution_count": 27,
   "metadata": {},
   "outputs": [
    {
     "name": "stdout",
     "output_type": "stream",
     "text": [
      "[[200  10]]\n"
     ]
    }
   ],
   "source": [
    "print(timeline_merge(channels[8].sweep_timeline))"
   ]
  },
  {
   "cell_type": "code",
   "execution_count": 29,
   "metadata": {},
   "outputs": [
    {
     "data": {
      "image/png": "[encoded data removed]",
      "text/plain": [
       "<Figure size 640x480 with 8 Axes>"
      ]
     },
     "metadata": {},
     "output_type": "display_data"
    }
   ],
   "source": [
    "channel_plotter(channels, 8)"
   ]
  },
  {
   "cell_type": "code",
   "execution_count": 30,
   "metadata": {},
   "outputs": [
    {
     "data": {
      "text/plain": [
       "{'10': [0, 1, 4], '400': [1], '80': [2], '20': [3], '320': [3]}"
      ]
     },
     "execution_count": 30,
     "metadata": {},
     "output_type": "execute_result"
    }
   ],
   "source": [
    "on_time(channels)"
   ]
  },
  {
   "cell_type": "code",
   "execution_count": 31,
   "metadata": {},
   "outputs": [
    {
     "data": {
      "text/plain": [
       "{'150': [0, 4], '310': [1, 2], '840': [1], '80': [3], '720': [3]}"
      ]
     },
     "execution_count": 31,
     "metadata": {},
     "output_type": "execute_result"
    }
   ],
   "source": [
    "off_time(channels)"
   ]
  },
  {
   "cell_type": "code",
   "execution_count": 9,
   "metadata": {},
   "outputs": [],
   "source": [
    "on = np.array(list(on_time(channels).keys()), dtype=int)\n",
    "off = np.array(list(off_time(channels).keys()), dtype=int)"
   ]
  },
  {
   "cell_type": "code",
   "execution_count": 10,
   "metadata": {},
   "outputs": [],
   "source": [
    "on = np.sort(on)\n",
    "off = np.sort(off)"
   ]
  },
  {
   "cell_type": "code",
   "execution_count": 11,
   "metadata": {},
   "outputs": [
    {
     "name": "stdout",
     "output_type": "stream",
     "text": [
      "hvis.sync_while(\"Turn on channels\",DIO_1,[0, 1, 4],\"on\", delay=10\n",
      "hvis.sync_while(\"Turn on channels\",DIO_1,[3],\"off\", delay=80\n",
      "hvis.sync_while(\"Turn on channels\",DIO_1,[3],\"on\", delay=20\n",
      "hvis.sync_while(\"Turn on channels\",DIO_1,[0, 4],\"off\", delay=150\n",
      "hvis.sync_while(\"Turn on channels\",DIO_1,[2],\"on\", delay=80\n",
      "hvis.sync_while(\"Turn on channels\",DIO_1,[1, 2],\"off\", delay=310\n",
      "hvis.sync_while(\"Turn on channels\",DIO_1,[3],\"on\", delay=320\n",
      "hvis.sync_while(\"Turn on channels\",DIO_1,[3],\"off\", delay=720\n",
      "hvis.sync_while(\"Turn on channels\",DIO_1,[1],\"on\", delay=400\n",
      "hvis.sync_while(\"Turn on channels\",DIO_1,[1],\"off\", delay=840\n"
     ]
    }
   ],
   "source": [
    "for j in range(len(on)):\n",
    "    i = on[j]\n",
    "    k = off[j]\n",
    "    print(channel_on_off(\"Turn on channels\", \"DIO_1\", str(on_time(channels)[str(i)]), \"on\", str(i)))\n",
    "    print(channel_on_off(\"Turn on channels\", \"DIO_1\", str(off_time(channels)[str(k)]), \"off\", str(k)))"
   ]
  },
  {
   "cell_type": "code",
   "execution_count": 12,
   "metadata": {},
   "outputs": [],
   "source": [
    "combined_on = np.array([[j, 1] for j in on])\n",
    "combined_off = np.array([[j, 0] for j in off])\n",
    "combined = np.vstack([combined_on, combined_off])\n",
    "combined = combined[np.argsort(combined[:, 0])]"
   ]
  },
  {
   "cell_type": "code",
   "execution_count": 47,
   "metadata": {},
   "outputs": [
    {
     "data": {
      "text/plain": [
       "array([ 10,  20,  80, 320, 400])"
      ]
     },
     "execution_count": 47,
     "metadata": {},
     "output_type": "execute_result"
    }
   ],
   "source": [
    "on"
   ]
  },
  {
   "cell_type": "code",
   "execution_count": 48,
   "metadata": {},
   "outputs": [
    {
     "data": {
      "text/plain": [
       "array([[ 10,   1],\n",
       "       [ 20,   1],\n",
       "       [ 80,   1],\n",
       "       [ 80,   0],\n",
       "       [150,   0],\n",
       "       [310,   0],\n",
       "       [320,   1],\n",
       "       [400,   1],\n",
       "       [720,   0],\n",
       "       [840,   0]])"
      ]
     },
     "execution_count": 48,
     "metadata": {},
     "output_type": "execute_result"
    }
   ],
   "source": [
    "combined"
   ]
  },
  {
   "cell_type": "code",
   "execution_count": 59,
   "metadata": {},
   "outputs": [
    {
     "name": "stdout",
     "output_type": "stream",
     "text": [
      "hvis.sync_while(\"Turn on channels\",DIO_1,[0, 1, 4],\"on\", delay=10)\n",
      "hvis.sync_while(\"Turn on channels\",DIO_1,[3],\"on\", delay=10)\n",
      "hvis.sync_while(\"Turn on channels\",DIO_1,[2],\"on\", delay=60)\n",
      "hvis.sync_while(\"Turn on channels\",DIO_1,[3],\"off\", delay=10)\n",
      "hvis.sync_while(\"Turn on channels\",DIO_1,[0, 4],\"off\", delay=60)\n",
      "hvis.sync_while(\"Turn on channels\",DIO_1,[1, 2],\"off\", delay=150)\n",
      "hvis.sync_while(\"Turn on channels\",DIO_1,[3],\"on\", delay=10)\n",
      "hvis.sync_while(\"Turn on channels\",DIO_1,[1],\"on\", delay=60)\n",
      "hvis.sync_while(\"Turn on channels\",DIO_1,[3],\"off\", delay=300)\n",
      "hvis.sync_while(\"Turn on channels\",DIO_1,[1],\"off\", delay=100)\n"
     ]
    }
   ],
   "source": [
    "delay = 0\n",
    "old = 0\n",
    "for command in combined:\n",
    "    i = command[0]\n",
    "    if(i-delay==0):\n",
    "        command_delay = 10\n",
    "        delay = delay + 10\n",
    "    else:\n",
    "        command_delay = i - delay\n",
    "\n",
    "    if command[1] == 1:\n",
    "        print(channel_on_off(\"Turn on channels\", \"DIO_1\", str(on_time(channels)[str(i)]), \"on\", str(command_delay)))\n",
    "    else:\n",
    "        print(channel_on_off(\"Turn on channels\", \"DIO_1\", str(off_time(channels)[str(i)]), \"off\", str(command_delay)))\n",
    "    delay = delay +command[0] - old\n",
    "    old = command[0]"
   ]
  },
  {
   "cell_type": "code",
   "execution_count": 39,
   "metadata": {},
   "outputs": [
    {
     "data": {
      "text/plain": [
       "array([[3, 1],\n",
       "       [1, 2],\n",
       "       [2, 3]])"
      ]
     },
     "execution_count": 39,
     "metadata": {},
     "output_type": "execute_result"
    }
   ],
   "source": [
    "a = np.array([1,2,4,6,5,3])\n",
    "b = np.array([[1,2], [2,3], [3,1]])\n",
    "\n",
    "b[np.argsort(b[:,1])]"
   ]
  },
  {
   "cell_type": "code",
   "execution_count": null,
   "metadata": {},
   "outputs": [],
   "source": []
  }
 ],
 "metadata": {
  "kernelspec": {
   "display_name": "Python 3",
   "language": "python",
   "name": "python3"
  },
  "language_info": {
   "codemirror_mode": {
    "name": "ipython",
    "version": 3
   },
   "file_extension": ".py",
   "mimetype": "text/x-python",
   "name": "python",
   "nbconvert_exporter": "python",
   "pygments_lexer": "ipython3",
   "version": "3.11.0"
  }
 },
 "nbformat": 4,
 "nbformat_minor": 2
}
