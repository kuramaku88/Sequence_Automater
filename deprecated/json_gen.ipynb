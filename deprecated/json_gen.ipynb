{
 "cells": [
  {
   "cell_type": "code",
   "execution_count": 1,
   "metadata": {},
   "outputs": [],
   "source": [
    "import pandas as pd"
   ]
  },
  {
   "cell_type": "code",
   "execution_count": null,
   "metadata": {},
   "outputs": [],
   "source": [
    "# Reading specific sheet\n",
    "df = pd.read_excel('input.xlsx', sheet_name='Sheet1', engine='openpyxl')\n",
    "\n",
    "# Reading all sheets into a dictionary of DataFrames\n",
    "dfs = pd.read_excel('input.xlsx', sheet_name=None, engine='openpyxl')\n",
    "json_data = {sheet: df.to_json(orient='records') for sheet, df in dfs.items()}\n"
   ]
  }
 ],
 "metadata": {
  "kernelspec": {
   "display_name": "Python 3",
   "language": "python",
   "name": "python3"
  },
  "language_info": {
   "codemirror_mode": {
    "name": "ipython",
    "version": 3
   },
   "file_extension": ".py",
   "mimetype": "text/x-python",
   "name": "python",
   "nbconvert_exporter": "python",
   "pygments_lexer": "ipython3",
   "version": "3.11.0"
  }
 },
 "nbformat": 4,
 "nbformat_minor": 2
}
