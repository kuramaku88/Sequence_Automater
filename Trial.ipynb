{
 "cells": [
  {
   "cell_type": "code",
   "execution_count": 6,
   "metadata": {},
   "outputs": [],
   "source": [
    "import pandas as pd\n",
    "import numpy as np"
   ]
  },
  {
   "cell_type": "code",
   "execution_count": 7,
   "metadata": {},
   "outputs": [],
   "source": [
    "commands = {'lvds_on': 'ON LVDS Channel', 'lvds_off':'OFF LVDS Channel'}\n",
    "channels = np.zeros(28)"
   ]
  },
  {
   "cell_type": "code",
   "execution_count": 8,
   "metadata": {},
   "outputs": [],
   "source": [
    "class Pulse:\n",
    "    def __init__(self, name, definition):\n",
    "        self.name = name\n",
    "        self.definition = definition\n",
    "    \n",
    "    # Returns a list with the channels and their states\n",
    "    def channel_mode(self):\n",
    "        channel = []\n",
    "        for i in self.definition:\n",
    "            if i == 'Off':\n",
    "                channel.append((0,0))\n",
    "            elif i == 'On':\n",
    "                channel.append((1,0))\n",
    "            elif i == 'Sweep':\n",
    "                channel.append((1,1))\n",
    "        return(channel)\n",
    "    \n",
    "    def pulse_on(self):\n",
    "        print(commands['lvds_on']+self.name)\n",
    "        \n",
    "    def pulse_off(self):\n",
    "        print(commands['lvds_off']+self.name)"
   ]
  },
  {
   "cell_type": "code",
   "execution_count": 9,
   "metadata": {},
   "outputs": [],
   "source": [
    "class Channel:\n",
    "    def __init__(self, timeline=np.array([]) , sweep_timeline=np.array([])):\n",
    "        self.timeline = timeline\n",
    "        self.sweep_timeline = sweep_timeline\n",
    "    \n",
    "    def append_timeline(self, time, sweep_enable):\n",
    "        if sweep_enable:\n",
    "            self.sweep_timeline = np.appened(self.sweep_timeline, time)\n",
    "        else:\n",
    "            self.timeline = np.appened(self.timeline, time)\n",
    "        "
   ]
  },
  {
   "cell_type": "code",
   "execution_count": 10,
   "metadata": {},
   "outputs": [],
   "source": [
    "class Pulse_Queue:\n",
    "    def __init__(self, definition):\n",
    "        self.definition = definition\n",
    "    \n",
    "    # Return a list with the each pulses start and ed time\n",
    "    def queue_list(self):\n",
    "        queue = self.definition.to_numpy()\n",
    "        return queue\n",
    "    \n",
    "    def time_line(self, mode):\n",
    "        queue = self.queue_list()\n",
    "        start = queue[queue[:,1].argsort()][:,(0,1)]\n",
    "        stop = queue[queue[:,2].argsort()][:,(0,2)]\n",
    "\n",
    "        if mode == 'start':\n",
    "            return start\n",
    "        else:\n",
    "            return stop"
   ]
  },
  {
   "cell_type": "code",
   "execution_count": 11,
   "metadata": {},
   "outputs": [],
   "source": [
    "file_name = \"Pulse_Manager.xlsx\"\n",
    "sheet_1 = \"Pulse_Queue\"\n",
    "sheet_2 = \"Pulse_Definition\"\n",
    "\n",
    "# pulse_queue = pd.read_excel(file_name, sheet_name=sheet_1)\n",
    "pulse_definition = pd.read_excel(file_name, sheet_name=sheet_2)\n",
    "pulse_names = pulse_definition.columns[1:]\n",
    "pulse_list = []\n",
    "pulse_dic = {}\n",
    "pulse_queue = Pulse_Queue(pd.read_excel(file_name, sheet_name=sheet_1))\n",
    "\n",
    "for name in pulse_names:\n",
    "    pulse_list.append(Pulse(name, pulse_definition[name]))\n",
    "    pulse_dic.update({name: Pulse(name, pulse_definition[name])})"
   ]
  },
  {
   "cell_type": "code",
   "execution_count": 12,
   "metadata": {},
   "outputs": [
    {
     "data": {
      "text/plain": [
       "{'Pulse_1': <__main__.Pulse at 0x234d57077d0>,\n",
       " 'Pulse_2': <__main__.Pulse at 0x234d574bad0>,\n",
       " 'Pulse_3': <__main__.Pulse at 0x234d574b290>,\n",
       " 'Pulse_4': <__main__.Pulse at 0x234d572f0d0>}"
      ]
     },
     "execution_count": 12,
     "metadata": {},
     "output_type": "execute_result"
    }
   ],
   "source": [
    "pulse_dic"
   ]
  },
  {
   "cell_type": "code",
   "execution_count": 17,
   "metadata": {},
   "outputs": [
    {
     "data": {
      "text/plain": [
       "<__main__.Pulse at 0x234d57077d0>"
      ]
     },
     "execution_count": 17,
     "metadata": {},
     "output_type": "execute_result"
    }
   ],
   "source": [
    "pulse_dic[\"Pulse_1\"]."
   ]
  },
  {
   "cell_type": "code",
   "execution_count": 13,
   "metadata": {},
   "outputs": [
    {
     "data": {
      "text/plain": [
       "array([0, 1, 1, 1])"
      ]
     },
     "execution_count": 13,
     "metadata": {},
     "output_type": "execute_result"
    }
   ],
   "source": [
    "a = np.array([0,0,1,1])\n",
    "b = np.array([0,1,0,1])\n",
    "np.logical_or(a,b).astype(int)"
   ]
  },
  {
   "cell_type": "code",
   "execution_count": 14,
   "metadata": {},
   "outputs": [
    {
     "ename": "ValueError",
     "evalue": "setting an array element with a sequence.",
     "output_type": "error",
     "traceback": [
      "\u001b[1;31m---------------------------------------------------------------------------\u001b[0m",
      "\u001b[1;31mTypeError\u001b[0m                                 Traceback (most recent call last)",
      "\u001b[1;31mTypeError\u001b[0m: only length-1 arrays can be converted to Python scalars",
      "\nThe above exception was the direct cause of the following exception:\n",
      "\u001b[1;31mValueError\u001b[0m                                Traceback (most recent call last)",
      "Cell \u001b[1;32mIn[14], line 6\u001b[0m\n\u001b[0;32m      4\u001b[0m \u001b[38;5;28;01mfor\u001b[39;00m mode \u001b[38;5;129;01min\u001b[39;00m pulse_dic[i[\u001b[38;5;241m0\u001b[39m]]\u001b[38;5;241m.\u001b[39mchannel_mode():\n\u001b[0;32m      5\u001b[0m     \u001b[38;5;28;01mif\u001b[39;00m mode[\u001b[38;5;241m0\u001b[39m] \u001b[38;5;241m==\u001b[39m \u001b[38;5;241m1\u001b[39m:\n\u001b[1;32m----> 6\u001b[0m         \u001b[43mchannels\u001b[49m\u001b[43m[\u001b[49m\u001b[43mch\u001b[49m\u001b[43m]\u001b[49m \u001b[38;5;241m=\u001b[39m np\u001b[38;5;241m.\u001b[39mappend(channels[ch], np\u001b[38;5;241m.\u001b[39marray([\u001b[38;5;241m1\u001b[39m,\u001b[38;5;241m1\u001b[39m]))\n",
      "\u001b[1;31mValueError\u001b[0m: setting an array element with a sequence."
     ]
    }
   ],
   "source": [
    "channels = np.zeros((28))\n",
    "for i in pulse_queue.queue_list():\n",
    "    ch = 0\n",
    "    for mode in pulse_dic[i[0]].channel_mode():\n",
    "        if mode[0] == 1:\n",
    "            channels[ch] = np.append(channels[ch], np.array([1,1]))\n",
    "\n"
   ]
  },
  {
   "cell_type": "code",
   "execution_count": null,
   "metadata": {},
   "outputs": [
    {
     "data": {
      "text/plain": [
       "array([0., 0., 0., 0., 0., 0., 0., 0., 0., 0., 0., 0., 0., 0., 0., 0., 0.,\n",
       "       0., 0., 0., 0., 0., 0., 0., 0., 0., 0., 0.])"
      ]
     },
     "execution_count": 89,
     "metadata": {},
     "output_type": "execute_result"
    }
   ],
   "source": [
    "channels"
   ]
  },
  {
   "cell_type": "code",
   "execution_count": null,
   "metadata": {},
   "outputs": [],
   "source": []
  }
 ],
 "metadata": {
  "kernelspec": {
   "display_name": "Python 3",
   "language": "python",
   "name": "python3"
  },
  "language_info": {
   "codemirror_mode": {
    "name": "ipython",
    "version": 3
   },
   "file_extension": ".py",
   "mimetype": "text/x-python",
   "name": "python",
   "nbconvert_exporter": "python",
   "pygments_lexer": "ipython3",
   "version": "3.11.0"
  }
 },
 "nbformat": 4,
 "nbformat_minor": 2
}
